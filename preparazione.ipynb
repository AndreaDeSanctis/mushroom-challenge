{
 "cells": [
  {
   "cell_type": "code",
   "execution_count": 10,
   "metadata": {},
   "outputs": [],
   "source": [
    "import pandas as pd\n",
    "from sklearn.model_selection import train_test_split\n",
    "\n",
    "# leggi il file e salva l'input in un DataFrame, considerando sia il caso compresso che decompresso\n",
    "try:\n",
    "    mushrooms_data = pd.read_csv('mushrooms.partial.csv', error_bad_lines=False, dtype=str)\n",
    "except FileNotFoundError:\n",
    "    mushrooms_data = pd.read_csv('mushrooms.partial.csv.gz', compression='gzip', error_bad_lines=False, dtype=str)"
   ]
  },
  {
   "cell_type": "code",
   "execution_count": 11,
   "metadata": {},
   "outputs": [],
   "source": [
    "# spit dei dati tra training e test set, diversi ad ogni run\n",
    "mushrooms_train, mushrooms_test = train_test_split(mushrooms_data, train_size=0.8, test_size=0.2, random_state = 66)"
   ]
  },
  {
   "cell_type": "code",
   "execution_count": 12,
   "metadata": {},
   "outputs": [],
   "source": [
    "# scrive su disco i due file csv\n",
    "mushrooms_train.to_csv(path_or_buf=\"train.csv\")\n",
    "mushrooms_test.to_csv(path_or_buf=\"test.csv\")"
   ]
  },
  {
   "cell_type": "code",
   "execution_count": null,
   "metadata": {},
   "outputs": [],
   "source": []
  }
 ],
 "metadata": {
  "kernelspec": {
   "display_name": "Python 3",
   "language": "python",
   "name": "python3"
  },
  "language_info": {
   "codemirror_mode": {
    "name": "ipython",
    "version": 3
   },
   "file_extension": ".py",
   "mimetype": "text/x-python",
   "name": "python",
   "nbconvert_exporter": "python",
   "pygments_lexer": "ipython3",
   "version": "3.8.5"
  }
 },
 "nbformat": 4,
 "nbformat_minor": 4
}
