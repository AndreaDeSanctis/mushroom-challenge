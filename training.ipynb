{
 "cells": [
  {
   "cell_type": "markdown",
   "metadata": {},
   "source": [
    "## PRE-PROCESSING"
   ]
  },
  {
   "cell_type": "code",
   "execution_count": 136,
   "metadata": {},
   "outputs": [],
   "source": [
    "import pandas as pd\n",
    "from sklearn.preprocessing import LabelEncoder\n",
    "from sklearn.impute import SimpleImputer\n",
    "from sklearn.neighbors import KNeighborsClassifier"
   ]
  },
  {
   "cell_type": "code",
   "execution_count": 137,
   "metadata": {},
   "outputs": [],
   "source": [
    "# leggi i file e salva l'input in due DataFrames\n",
    "training_data = pd.read_csv('train.csv', error_bad_lines=False, dtype=str)\n",
    "test_data = pd.read_csv('test.csv', error_bad_lines=False, dtype=str)"
   ]
  },
  {
   "cell_type": "code",
   "execution_count": 138,
   "metadata": {},
   "outputs": [],
   "source": [
    "# encoding delle categorical variables da string a int\n",
    "encoder = LabelEncoder()\n",
    "training_encoded = training_data.apply(encoder.fit_transform)\n",
    "test_encoded = test_data.apply(encoder.fit_transform)"
   ]
  },
  {
   "cell_type": "code",
   "execution_count": 139,
   "metadata": {},
   "outputs": [],
   "source": [
    "# selezioniamo la variabile su cui effettuare la predizione\n",
    "y_train = training_encoded['class']\n",
    "\n",
    "# dichiariamo la variabile con le features\n",
    "X_train = training_encoded.drop(['class'], axis=1)\n",
    "\n",
    "# facciamo la stessa cosa col test set\n",
    "y_test = test_encoded['class']\n",
    "X_test = test_encoded.drop(['class'], axis=1)"
   ]
  },
  {
   "cell_type": "markdown",
   "metadata": {},
   "source": [
    "## CLASSIFICAZIONE K-NN"
   ]
  },
  {
   "cell_type": "code",
   "execution_count": 140,
   "metadata": {},
   "outputs": [
    {
     "data": {
      "text/plain": [
       "KNeighborsClassifier(n_neighbors=1)"
      ]
     },
     "execution_count": 140,
     "metadata": {},
     "output_type": "execute_result"
    }
   ],
   "source": [
    "# per la classificazione si usa l'algoritmo k-nearest neighbor fornito da scikit learn, con n_neighbors=1 in modo\n",
    "# da assegnare l'oggetto direttamente alla classe del singolo vicino più prossimo\n",
    "classifier = KNeighborsClassifier(n_neighbors=1)\n",
    "\n",
    "# addestra il modello\n",
    "classifier.fit(X_train, y_train)"
   ]
  },
  {
   "cell_type": "code",
   "execution_count": 141,
   "metadata": {},
   "outputs": [
    {
     "name": "stdout",
     "output_type": "stream",
     "text": [
      "MODEL ACCURACY:  0.7861538461538462\n"
     ]
    }
   ],
   "source": [
    "# testa il modello e stabilisce l'accuratezza\n",
    "accuracy = classifier.score(X_test, y_test)\n",
    "\n",
    "# stampa l'accuratezza della previsione\n",
    "print(\"MODEL ACCURACY: \", accuracy)"
   ]
  },
  {
   "cell_type": "code",
   "execution_count": null,
   "metadata": {},
   "outputs": [],
   "source": []
  }
 ],
 "metadata": {
  "kernelspec": {
   "display_name": "Python 3",
   "language": "python",
   "name": "python3"
  },
  "language_info": {
   "codemirror_mode": {
    "name": "ipython",
    "version": 3
   },
   "file_extension": ".py",
   "mimetype": "text/x-python",
   "name": "python",
   "nbconvert_exporter": "python",
   "pygments_lexer": "ipython3",
   "version": "3.8.5"
  }
 },
 "nbformat": 4,
 "nbformat_minor": 4
}
